{
 "cells": [
  {
   "cell_type": "code",
   "execution_count": 68,
   "id": "dc04c849-4585-4cfb-b8a3-e6ff11f4f712",
   "metadata": {},
   "outputs": [],
   "source": [
    "import csv\n",
    "import numpy as np"
   ]
  },
  {
   "cell_type": "code",
   "execution_count": 69,
   "id": "e5870137-74b2-4e55-a2a3-b8cdb740f205",
   "metadata": {},
   "outputs": [],
   "source": [
    "def statistic_alti(root, filename, name) :\n",
    "    ALTI = []\n",
    "    with open(root+filename) as file :\n",
    "        readcsv = csv.reader(file, delimiter=',')\n",
    "        line = 0\n",
    "        for row in readcsv :\n",
    "            if line > 0 :\n",
    "                ALTI.append([float(row[0]),float(row[1])])\n",
    "            line += 1\n",
    "\n",
    "    def sortSecond(val):\n",
    "        return val[1]\n",
    "    ALTI.sort(key=sortSecond)\n",
    "\n",
    "    ROW = []\n",
    "    tmpalti = [ALTI[0][0]]\n",
    "\n",
    "    for i in range(1,len(ALTI)) :\n",
    "\n",
    "        if ALTI[i][1] == ALTI[i-1][1] and i != len(ALTI)-1 :\n",
    "            tmpalti.append(ALTI[i][0])\n",
    "\n",
    "        elif ALTI[i][1] != ALTI[i-1][1] or i == len(ALTI)-1:\n",
    "\n",
    "            idname = ALTI[i-1][1]\n",
    "\n",
    "            ROW.append([idname, np.mean(tmpalti),np.std(tmpalti), np.median(tmpalti)])\n",
    "\n",
    "            tmpalti = [ALTI[i][0]]\n",
    "    fields = ['ID', 'MEAN_ALTI', 'STD_ALTI', 'MEDIAN_ALTI'] \n",
    "\n",
    "    filename = root+'STAT\\\\'+\"STAT_ID_GRID_\"+str(name)+\".csv\"\n",
    "\n",
    "    # writing to csv file \n",
    "    with open(filename, 'w') as csvfile: \n",
    "        # creating a csv writer object \n",
    "        csvwriter = csv.writer(csvfile) \n",
    "\n",
    "        # writing the fields \n",
    "        csvwriter.writerow(fields) \n",
    "\n",
    "        # writing the data rows \n",
    "        csvwriter.writerows(ROW)\n",
    "    print('Le fichier '+str(name)+'.csv a été exporté avec les statistiques avec grand plaisir.\\n Vénérable grand maitre megneu.') "
   ]
  },
  {
   "cell_type": "code",
   "execution_count": 71,
   "id": "2037e538-5bdd-4b9b-a96c-3d23e80f07e6",
   "metadata": {},
   "outputs": [
    {
     "name": "stdout",
     "output_type": "stream",
     "text": [
      "Le fichier DJF1.csv a été exporté avec les statistiques avec grand plaisir.\n",
      " Vénérable grand maitre megneu.\n",
      "Le fichier DJF2.csv a été exporté avec les statistiques avec grand plaisir.\n",
      " Vénérable grand maitre megneu.\n",
      "Le fichier DJF3.csv a été exporté avec les statistiques avec grand plaisir.\n",
      " Vénérable grand maitre megneu.\n",
      "Le fichier DJF4.csv a été exporté avec les statistiques avec grand plaisir.\n",
      " Vénérable grand maitre megneu.\n",
      "Le fichier JJA1.csv a été exporté avec les statistiques avec grand plaisir.\n",
      " Vénérable grand maitre megneu.\n",
      "Le fichier JJA2.csv a été exporté avec les statistiques avec grand plaisir.\n",
      " Vénérable grand maitre megneu.\n",
      "Le fichier JJA3.csv a été exporté avec les statistiques avec grand plaisir.\n",
      " Vénérable grand maitre megneu.\n",
      "Le fichier JJA4.csv a été exporté avec les statistiques avec grand plaisir.\n",
      " Vénérable grand maitre megneu.\n",
      "Le fichier MAM1.csv a été exporté avec les statistiques avec grand plaisir.\n",
      " Vénérable grand maitre megneu.\n",
      "Le fichier MAM2.csv a été exporté avec les statistiques avec grand plaisir.\n",
      " Vénérable grand maitre megneu.\n",
      "Le fichier MAM3.csv a été exporté avec les statistiques avec grand plaisir.\n",
      " Vénérable grand maitre megneu.\n",
      "Le fichier MAM4.csv a été exporté avec les statistiques avec grand plaisir.\n",
      " Vénérable grand maitre megneu.\n",
      "Le fichier SON1.csv a été exporté avec les statistiques avec grand plaisir.\n",
      " Vénérable grand maitre megneu.\n",
      "Le fichier SON2.csv a été exporté avec les statistiques avec grand plaisir.\n",
      " Vénérable grand maitre megneu.\n",
      "Le fichier SON3.csv a été exporté avec les statistiques avec grand plaisir.\n",
      " Vénérable grand maitre megneu.\n",
      "Le fichier SON4.csv a été exporté avec les statistiques avec grand plaisir.\n",
      " Vénérable grand maitre megneu.\n"
     ]
    }
   ],
   "source": [
    "root = 'E:\\\\PYYYYYTon\\\\'\n",
    "\n",
    "CLUSTERS = ['DJF','JJA','MAM','SON']\n",
    "\n",
    "for cluster in CLUSTERS :\n",
    "    for saison in range(1,5) :\n",
    "        name = str(cluster)+str(saison)\n",
    "        filename = name+'_Alti.csv'\n",
    "        statistic_alti(root, filename, name)"
   ]
  },
  {
   "cell_type": "code",
   "execution_count": null,
   "id": "dceea1dc-7b70-44af-b0f8-72308968116a",
   "metadata": {},
   "outputs": [],
   "source": []
  }
 ],
 "metadata": {
  "kernelspec": {
   "display_name": "Python 3 (ipykernel)",
   "language": "python",
   "name": "python3"
  },
  "language_info": {
   "codemirror_mode": {
    "name": "ipython",
    "version": 3
   },
   "file_extension": ".py",
   "mimetype": "text/x-python",
   "name": "python",
   "nbconvert_exporter": "python",
   "pygments_lexer": "ipython3",
   "version": "3.9.13"
  }
 },
 "nbformat": 4,
 "nbformat_minor": 5
}
